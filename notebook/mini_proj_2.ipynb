{
  "nbformat": 4,
  "nbformat_minor": 0,
  "metadata": {
    "colab": {
      "provenance": [],
      "include_colab_link": true
    },
    "kernelspec": {
      "name": "python3",
      "display_name": "Python 3"
    },
    "language_info": {
      "name": "python"
    }
  },
  "cells": [
    {
      "cell_type": "markdown",
      "metadata": {
        "id": "view-in-github",
        "colab_type": "text"
      },
      "source": [
        "<a href=\"https://colab.research.google.com/github/YamgoKES/Structured-Data-Machine-Learning-Modelling/blob/main/notebook/mini_proj_2.ipynb\" target=\"_parent\"><img src=\"https://colab.research.google.com/assets/colab-badge.svg\" alt=\"Open In Colab\"/></a>"
      ]
    },
    {
      "cell_type": "code",
      "source": [],
      "metadata": {
        "id": "GoLw1M4WhKXy"
      },
      "execution_count": null,
      "outputs": []
    },
    {
      "cell_type": "code",
      "execution_count": null,
      "metadata": {
        "colab": {
          "base_uri": "https://localhost:8080/"
        },
        "collapsed": true,
        "id": "p8JujS-zMmfS",
        "outputId": "ed20e69c-8582-4095-9a2b-8f465a2cadf5"
      },
      "outputs": [
        {
          "output_type": "stream",
          "name": "stdout",
          "text": [
            "W: Skipping acquire of configured file 'main/source/Sources' as repository 'https://r2u.stat.illinois.edu/ubuntu jammy InRelease' does not seem to provide it (sources.list entry misspelt?)\n"
          ]
        }
      ],
      "source": [
        "import numpy as np\n",
        "import pandas as pd\n",
        "import matplotlib.pyplot as plt\n",
        "import seaborn as sns\n",
        "import chardet\n",
        "\n",
        "import matplotlib.font_manager as fm  # 폰트 관리\n",
        "\n",
        "!apt-get update -qq         # apt-get 패키지 설치 명령어, -qq : 에러외 메세지 숨기기\n",
        "!apt-get install fonts-nanum* -qq #나눔글꼴 설치\n",
        "\n",
        "fe = fm.FontEntry(fname=r'/usr/share/fonts/truetype/nanum/NanumGothic.ttf', name='NanumGothic') #파일 저장되어있는 경로와 이름 설정\n",
        "fm.fontManager.ttflist.insert(0, fe)  # Matplotlib에 폰트 추가\n",
        "plt.rcParams.update({'font.size': 10, 'font.family': 'NanumGothic'}) #폰트설정"
      ]
    },
    {
      "cell_type": "code",
      "source": [
        "'''from google.colab import drive\n",
        "drive.mount('/content/drive')'''"
      ],
      "metadata": {
        "colab": {
          "base_uri": "https://localhost:8080/",
          "height": 35
        },
        "id": "tpVQ4yOPMs-m",
        "outputId": "9d29f875-208c-4230-ca87-7998fb66b185"
      },
      "execution_count": null,
      "outputs": [
        {
          "output_type": "execute_result",
          "data": {
            "text/plain": [
              "\"from google.colab import drive\\ndrive.mount('/content/drive')\""
            ],
            "application/vnd.google.colaboratory.intrinsic+json": {
              "type": "string"
            }
          },
          "metadata": {},
          "execution_count": 2
        }
      ]
    },
    {
      "cell_type": "code",
      "source": [
        "'''with open('/content/drive/MyDrive/EST_soft 부트캠프/프로젝트/csv파일모음/new_gas.csv', 'rb') as file:\n",
        "    raw_data = file.read()\n",
        "    result = chardet.detect(raw_data)\n",
        "    encoding = result['encoding']'''\n",
        "\n",
        "# 추정된 인코딩으로 파일 읽기 ....\n",
        "df = pd.read_csv('/content/new_gas.csv')"
      ],
      "metadata": {
        "id": "YegGFj9TNdl4"
      },
      "execution_count": null,
      "outputs": []
    },
    {
      "cell_type": "code",
      "source": [
        "df.head(3)"
      ],
      "metadata": {
        "colab": {
          "base_uri": "https://localhost:8080/",
          "height": 212
        },
        "id": "w_PqZmu9OMVD",
        "outputId": "537beb8a-477f-47d0-dfe5-9d32a1d8b229"
      },
      "execution_count": null,
      "outputs": [
        {
          "output_type": "execute_result",
          "data": {
            "text/plain": [
              "                상호     상표 셀프여부   휘발유    경유 법정동명  month  공시지가(원/㎡)  \\\n",
              "0  (유)동하석유 힐탑셀프주유소  SK에너지   셀프  1737  1697  논현동      1  9670000.0   \n",
              "1  (유)동하석유 힐탑셀프주유소  SK에너지   셀프  1737  1697  논현동      1  9670000.0   \n",
              "2  (유)동하석유 힐탑셀프주유소  SK에너지   셀프  1737  1697  논현동      1  9670000.0   \n",
              "\n",
              "   평균 공시지가(원/㎡)  Dubai  14일 전 환율  \n",
              "0    12473509.2  76.17    1294.7  \n",
              "1    12473509.2  76.83    1298.7  \n",
              "2    12473509.2  79.06    1304.7  "
            ],
            "text/html": [
              "\n",
              "  <div id=\"df-89cee860-b4f1-46f6-a778-b29f1c7d6b47\" class=\"colab-df-container\">\n",
              "    <div>\n",
              "<style scoped>\n",
              "    .dataframe tbody tr th:only-of-type {\n",
              "        vertical-align: middle;\n",
              "    }\n",
              "\n",
              "    .dataframe tbody tr th {\n",
              "        vertical-align: top;\n",
              "    }\n",
              "\n",
              "    .dataframe thead th {\n",
              "        text-align: right;\n",
              "    }\n",
              "</style>\n",
              "<table border=\"1\" class=\"dataframe\">\n",
              "  <thead>\n",
              "    <tr style=\"text-align: right;\">\n",
              "      <th></th>\n",
              "      <th>상호</th>\n",
              "      <th>상표</th>\n",
              "      <th>셀프여부</th>\n",
              "      <th>휘발유</th>\n",
              "      <th>경유</th>\n",
              "      <th>법정동명</th>\n",
              "      <th>month</th>\n",
              "      <th>공시지가(원/㎡)</th>\n",
              "      <th>평균 공시지가(원/㎡)</th>\n",
              "      <th>Dubai</th>\n",
              "      <th>14일 전 환율</th>\n",
              "    </tr>\n",
              "  </thead>\n",
              "  <tbody>\n",
              "    <tr>\n",
              "      <th>0</th>\n",
              "      <td>(유)동하석유 힐탑셀프주유소</td>\n",
              "      <td>SK에너지</td>\n",
              "      <td>셀프</td>\n",
              "      <td>1737</td>\n",
              "      <td>1697</td>\n",
              "      <td>논현동</td>\n",
              "      <td>1</td>\n",
              "      <td>9670000.0</td>\n",
              "      <td>12473509.2</td>\n",
              "      <td>76.17</td>\n",
              "      <td>1294.7</td>\n",
              "    </tr>\n",
              "    <tr>\n",
              "      <th>1</th>\n",
              "      <td>(유)동하석유 힐탑셀프주유소</td>\n",
              "      <td>SK에너지</td>\n",
              "      <td>셀프</td>\n",
              "      <td>1737</td>\n",
              "      <td>1697</td>\n",
              "      <td>논현동</td>\n",
              "      <td>1</td>\n",
              "      <td>9670000.0</td>\n",
              "      <td>12473509.2</td>\n",
              "      <td>76.83</td>\n",
              "      <td>1298.7</td>\n",
              "    </tr>\n",
              "    <tr>\n",
              "      <th>2</th>\n",
              "      <td>(유)동하석유 힐탑셀프주유소</td>\n",
              "      <td>SK에너지</td>\n",
              "      <td>셀프</td>\n",
              "      <td>1737</td>\n",
              "      <td>1697</td>\n",
              "      <td>논현동</td>\n",
              "      <td>1</td>\n",
              "      <td>9670000.0</td>\n",
              "      <td>12473509.2</td>\n",
              "      <td>79.06</td>\n",
              "      <td>1304.7</td>\n",
              "    </tr>\n",
              "  </tbody>\n",
              "</table>\n",
              "</div>\n",
              "    <div class=\"colab-df-buttons\">\n",
              "\n",
              "  <div class=\"colab-df-container\">\n",
              "    <button class=\"colab-df-convert\" onclick=\"convertToInteractive('df-89cee860-b4f1-46f6-a778-b29f1c7d6b47')\"\n",
              "            title=\"Convert this dataframe to an interactive table.\"\n",
              "            style=\"display:none;\">\n",
              "\n",
              "  <svg xmlns=\"http://www.w3.org/2000/svg\" height=\"24px\" viewBox=\"0 -960 960 960\">\n",
              "    <path d=\"M120-120v-720h720v720H120Zm60-500h600v-160H180v160Zm220 220h160v-160H400v160Zm0 220h160v-160H400v160ZM180-400h160v-160H180v160Zm440 0h160v-160H620v160ZM180-180h160v-160H180v160Zm440 0h160v-160H620v160Z\"/>\n",
              "  </svg>\n",
              "    </button>\n",
              "\n",
              "  <style>\n",
              "    .colab-df-container {\n",
              "      display:flex;\n",
              "      gap: 12px;\n",
              "    }\n",
              "\n",
              "    .colab-df-convert {\n",
              "      background-color: #E8F0FE;\n",
              "      border: none;\n",
              "      border-radius: 50%;\n",
              "      cursor: pointer;\n",
              "      display: none;\n",
              "      fill: #1967D2;\n",
              "      height: 32px;\n",
              "      padding: 0 0 0 0;\n",
              "      width: 32px;\n",
              "    }\n",
              "\n",
              "    .colab-df-convert:hover {\n",
              "      background-color: #E2EBFA;\n",
              "      box-shadow: 0px 1px 2px rgba(60, 64, 67, 0.3), 0px 1px 3px 1px rgba(60, 64, 67, 0.15);\n",
              "      fill: #174EA6;\n",
              "    }\n",
              "\n",
              "    .colab-df-buttons div {\n",
              "      margin-bottom: 4px;\n",
              "    }\n",
              "\n",
              "    [theme=dark] .colab-df-convert {\n",
              "      background-color: #3B4455;\n",
              "      fill: #D2E3FC;\n",
              "    }\n",
              "\n",
              "    [theme=dark] .colab-df-convert:hover {\n",
              "      background-color: #434B5C;\n",
              "      box-shadow: 0px 1px 3px 1px rgba(0, 0, 0, 0.15);\n",
              "      filter: drop-shadow(0px 1px 2px rgba(0, 0, 0, 0.3));\n",
              "      fill: #FFFFFF;\n",
              "    }\n",
              "  </style>\n",
              "\n",
              "    <script>\n",
              "      const buttonEl =\n",
              "        document.querySelector('#df-89cee860-b4f1-46f6-a778-b29f1c7d6b47 button.colab-df-convert');\n",
              "      buttonEl.style.display =\n",
              "        google.colab.kernel.accessAllowed ? 'block' : 'none';\n",
              "\n",
              "      async function convertToInteractive(key) {\n",
              "        const element = document.querySelector('#df-89cee860-b4f1-46f6-a778-b29f1c7d6b47');\n",
              "        const dataTable =\n",
              "          await google.colab.kernel.invokeFunction('convertToInteractive',\n",
              "                                                    [key], {});\n",
              "        if (!dataTable) return;\n",
              "\n",
              "        const docLinkHtml = 'Like what you see? Visit the ' +\n",
              "          '<a target=\"_blank\" href=https://colab.research.google.com/notebooks/data_table.ipynb>data table notebook</a>'\n",
              "          + ' to learn more about interactive tables.';\n",
              "        element.innerHTML = '';\n",
              "        dataTable['output_type'] = 'display_data';\n",
              "        await google.colab.output.renderOutput(dataTable, element);\n",
              "        const docLink = document.createElement('div');\n",
              "        docLink.innerHTML = docLinkHtml;\n",
              "        element.appendChild(docLink);\n",
              "      }\n",
              "    </script>\n",
              "  </div>\n",
              "\n",
              "\n",
              "<div id=\"df-6c7739d1-05cb-4550-bcd6-c9dc7e115681\">\n",
              "  <button class=\"colab-df-quickchart\" onclick=\"quickchart('df-6c7739d1-05cb-4550-bcd6-c9dc7e115681')\"\n",
              "            title=\"Suggest charts\"\n",
              "            style=\"display:none;\">\n",
              "\n",
              "<svg xmlns=\"http://www.w3.org/2000/svg\" height=\"24px\"viewBox=\"0 0 24 24\"\n",
              "     width=\"24px\">\n",
              "    <g>\n",
              "        <path d=\"M19 3H5c-1.1 0-2 .9-2 2v14c0 1.1.9 2 2 2h14c1.1 0 2-.9 2-2V5c0-1.1-.9-2-2-2zM9 17H7v-7h2v7zm4 0h-2V7h2v10zm4 0h-2v-4h2v4z\"/>\n",
              "    </g>\n",
              "</svg>\n",
              "  </button>\n",
              "\n",
              "<style>\n",
              "  .colab-df-quickchart {\n",
              "      --bg-color: #E8F0FE;\n",
              "      --fill-color: #1967D2;\n",
              "      --hover-bg-color: #E2EBFA;\n",
              "      --hover-fill-color: #174EA6;\n",
              "      --disabled-fill-color: #AAA;\n",
              "      --disabled-bg-color: #DDD;\n",
              "  }\n",
              "\n",
              "  [theme=dark] .colab-df-quickchart {\n",
              "      --bg-color: #3B4455;\n",
              "      --fill-color: #D2E3FC;\n",
              "      --hover-bg-color: #434B5C;\n",
              "      --hover-fill-color: #FFFFFF;\n",
              "      --disabled-bg-color: #3B4455;\n",
              "      --disabled-fill-color: #666;\n",
              "  }\n",
              "\n",
              "  .colab-df-quickchart {\n",
              "    background-color: var(--bg-color);\n",
              "    border: none;\n",
              "    border-radius: 50%;\n",
              "    cursor: pointer;\n",
              "    display: none;\n",
              "    fill: var(--fill-color);\n",
              "    height: 32px;\n",
              "    padding: 0;\n",
              "    width: 32px;\n",
              "  }\n",
              "\n",
              "  .colab-df-quickchart:hover {\n",
              "    background-color: var(--hover-bg-color);\n",
              "    box-shadow: 0 1px 2px rgba(60, 64, 67, 0.3), 0 1px 3px 1px rgba(60, 64, 67, 0.15);\n",
              "    fill: var(--button-hover-fill-color);\n",
              "  }\n",
              "\n",
              "  .colab-df-quickchart-complete:disabled,\n",
              "  .colab-df-quickchart-complete:disabled:hover {\n",
              "    background-color: var(--disabled-bg-color);\n",
              "    fill: var(--disabled-fill-color);\n",
              "    box-shadow: none;\n",
              "  }\n",
              "\n",
              "  .colab-df-spinner {\n",
              "    border: 2px solid var(--fill-color);\n",
              "    border-color: transparent;\n",
              "    border-bottom-color: var(--fill-color);\n",
              "    animation:\n",
              "      spin 1s steps(1) infinite;\n",
              "  }\n",
              "\n",
              "  @keyframes spin {\n",
              "    0% {\n",
              "      border-color: transparent;\n",
              "      border-bottom-color: var(--fill-color);\n",
              "      border-left-color: var(--fill-color);\n",
              "    }\n",
              "    20% {\n",
              "      border-color: transparent;\n",
              "      border-left-color: var(--fill-color);\n",
              "      border-top-color: var(--fill-color);\n",
              "    }\n",
              "    30% {\n",
              "      border-color: transparent;\n",
              "      border-left-color: var(--fill-color);\n",
              "      border-top-color: var(--fill-color);\n",
              "      border-right-color: var(--fill-color);\n",
              "    }\n",
              "    40% {\n",
              "      border-color: transparent;\n",
              "      border-right-color: var(--fill-color);\n",
              "      border-top-color: var(--fill-color);\n",
              "    }\n",
              "    60% {\n",
              "      border-color: transparent;\n",
              "      border-right-color: var(--fill-color);\n",
              "    }\n",
              "    80% {\n",
              "      border-color: transparent;\n",
              "      border-right-color: var(--fill-color);\n",
              "      border-bottom-color: var(--fill-color);\n",
              "    }\n",
              "    90% {\n",
              "      border-color: transparent;\n",
              "      border-bottom-color: var(--fill-color);\n",
              "    }\n",
              "  }\n",
              "</style>\n",
              "\n",
              "  <script>\n",
              "    async function quickchart(key) {\n",
              "      const quickchartButtonEl =\n",
              "        document.querySelector('#' + key + ' button');\n",
              "      quickchartButtonEl.disabled = true;  // To prevent multiple clicks.\n",
              "      quickchartButtonEl.classList.add('colab-df-spinner');\n",
              "      try {\n",
              "        const charts = await google.colab.kernel.invokeFunction(\n",
              "            'suggestCharts', [key], {});\n",
              "      } catch (error) {\n",
              "        console.error('Error during call to suggestCharts:', error);\n",
              "      }\n",
              "      quickchartButtonEl.classList.remove('colab-df-spinner');\n",
              "      quickchartButtonEl.classList.add('colab-df-quickchart-complete');\n",
              "    }\n",
              "    (() => {\n",
              "      let quickchartButtonEl =\n",
              "        document.querySelector('#df-6c7739d1-05cb-4550-bcd6-c9dc7e115681 button');\n",
              "      quickchartButtonEl.style.display =\n",
              "        google.colab.kernel.accessAllowed ? 'block' : 'none';\n",
              "    })();\n",
              "  </script>\n",
              "</div>\n",
              "\n",
              "    </div>\n",
              "  </div>\n"
            ],
            "application/vnd.google.colaboratory.intrinsic+json": {
              "type": "dataframe",
              "variable_name": "df"
            }
          },
          "metadata": {},
          "execution_count": 4
        }
      ]
    },
    {
      "cell_type": "markdown",
      "source": [
        "칼럼 설명 <br>\n",
        "상호 : 대리점 이름 <br>\n",
        "상표 : 브랜드 이름 <br>\n",
        "휘발유/경유 : 단위 리터당 가격(원) <br>\n",
        "공시지가 : 법정동명 기준으로의 중앙값 <br>\n",
        "평균 공시지가  : 말 그대로 법정동명기준으로의 평균 공시지가 <br>\n",
        "Dubai : 두바이유 (2주전 데이터) <br>\n",
        "14일 전 환율 : 반영시기가 2주전 정도이기 때문에 적용함 <br>\n",
        "\n",
        " 독립변수  : 공시지가(0.45) , 셀프 , 법정동명 , month , Dubai, 14일전 환율 <br>\n",
        " 종속변수 : 휘발유 가격"
      ],
      "metadata": {
        "id": "rGVT2dS_PSvG"
      }
    },
    {
      "cell_type": "code",
      "source": [
        "############ 전처리전 시각화 보기 ########################"
      ],
      "metadata": {
        "id": "NhcjmhlBcM5d"
      },
      "execution_count": null,
      "outputs": []
    },
    {
      "cell_type": "code",
      "source": [],
      "metadata": {
        "id": "Kf0viLaxcRgl"
      },
      "execution_count": null,
      "outputs": []
    },
    {
      "cell_type": "code",
      "source": [
        "############### 전처리 ################## 상관관계 ######################"
      ],
      "metadata": {
        "id": "kz44rTo6cReF"
      },
      "execution_count": null,
      "outputs": []
    },
    {
      "cell_type": "code",
      "source": [
        "df['상표']=df['상표'].replace('알뜰(ex)', '알뜰주유소')"
      ],
      "metadata": {
        "id": "SvccUuq_cRbS"
      },
      "execution_count": null,
      "outputs": []
    },
    {
      "cell_type": "code",
      "source": [
        "# 휘발유가 0인값을 그 달의 평균값으로 채워넣기\n",
        "\n",
        "zero_values=df['휘발유']==0 #df['휘발유'] != 0\n",
        "\n",
        "month_avg=df[df['휘발유'] != 0].groupby('month')['휘발유'].mean() #0값을 제외한 월별 평균값\n",
        "\n",
        "for idx in df[zero_values].index :\n",
        "    month = df.loc[idx, 'month']\n",
        "    df.loc[idx, '휘발유'] = month_avg[month]"
      ],
      "metadata": {
        "colab": {
          "base_uri": "https://localhost:8080/"
        },
        "collapsed": true,
        "id": "FOuZpKOPccS5",
        "outputId": "29ff82a4-81e4-49b5-87b5-de5365316e64"
      },
      "execution_count": null,
      "outputs": [
        {
          "output_type": "stream",
          "name": "stderr",
          "text": [
            "<ipython-input-8-e4459580ca28>:9: FutureWarning: Setting an item of incompatible dtype is deprecated and will raise an error in a future version of pandas. Value '1643.1348851709447' has dtype incompatible with int64, please explicitly cast to a compatible dtype first.\n",
            "  df.loc[idx, '휘발유'] = month_avg[month]\n"
          ]
        }
      ]
    },
    {
      "cell_type": "code",
      "source": [
        "df[df==0].count()"
      ],
      "metadata": {
        "colab": {
          "base_uri": "https://localhost:8080/",
          "height": 428
        },
        "id": "aYb8XNSxH_2L",
        "outputId": "f5c96e7b-3323-4a90-8d22-36bad2a64a5f"
      },
      "execution_count": null,
      "outputs": [
        {
          "output_type": "execute_result",
          "data": {
            "text/plain": [
              "상호               0\n",
              "상표               0\n",
              "셀프여부             0\n",
              "휘발유              0\n",
              "경유              51\n",
              "법정동명             0\n",
              "month            0\n",
              "공시지가(원/㎡)        0\n",
              "평균 공시지가(원/㎡)     0\n",
              "Dubai            0\n",
              "14일 전 환율         0\n",
              "dtype: int64"
            ],
            "text/html": [
              "<div>\n",
              "<style scoped>\n",
              "    .dataframe tbody tr th:only-of-type {\n",
              "        vertical-align: middle;\n",
              "    }\n",
              "\n",
              "    .dataframe tbody tr th {\n",
              "        vertical-align: top;\n",
              "    }\n",
              "\n",
              "    .dataframe thead th {\n",
              "        text-align: right;\n",
              "    }\n",
              "</style>\n",
              "<table border=\"1\" class=\"dataframe\">\n",
              "  <thead>\n",
              "    <tr style=\"text-align: right;\">\n",
              "      <th></th>\n",
              "      <th>0</th>\n",
              "    </tr>\n",
              "  </thead>\n",
              "  <tbody>\n",
              "    <tr>\n",
              "      <th>상호</th>\n",
              "      <td>0</td>\n",
              "    </tr>\n",
              "    <tr>\n",
              "      <th>상표</th>\n",
              "      <td>0</td>\n",
              "    </tr>\n",
              "    <tr>\n",
              "      <th>셀프여부</th>\n",
              "      <td>0</td>\n",
              "    </tr>\n",
              "    <tr>\n",
              "      <th>휘발유</th>\n",
              "      <td>0</td>\n",
              "    </tr>\n",
              "    <tr>\n",
              "      <th>경유</th>\n",
              "      <td>51</td>\n",
              "    </tr>\n",
              "    <tr>\n",
              "      <th>법정동명</th>\n",
              "      <td>0</td>\n",
              "    </tr>\n",
              "    <tr>\n",
              "      <th>month</th>\n",
              "      <td>0</td>\n",
              "    </tr>\n",
              "    <tr>\n",
              "      <th>공시지가(원/㎡)</th>\n",
              "      <td>0</td>\n",
              "    </tr>\n",
              "    <tr>\n",
              "      <th>평균 공시지가(원/㎡)</th>\n",
              "      <td>0</td>\n",
              "    </tr>\n",
              "    <tr>\n",
              "      <th>Dubai</th>\n",
              "      <td>0</td>\n",
              "    </tr>\n",
              "    <tr>\n",
              "      <th>14일 전 환율</th>\n",
              "      <td>0</td>\n",
              "    </tr>\n",
              "  </tbody>\n",
              "</table>\n",
              "</div><br><label><b>dtype:</b> int64</label>"
            ]
          },
          "metadata": {},
          "execution_count": 9
        }
      ]
    },
    {
      "cell_type": "code",
      "source": [],
      "metadata": {
        "id": "JSleoONAGqPw"
      },
      "execution_count": null,
      "outputs": []
    },
    {
      "cell_type": "code",
      "source": [
        "#모델링 과정 시작"
      ],
      "metadata": {
        "id": "w7mzWcihcR5G"
      },
      "execution_count": null,
      "outputs": []
    },
    {
      "cell_type": "markdown",
      "source": [],
      "metadata": {
        "id": "Rm8g_J4IOX4_"
      }
    },
    {
      "cell_type": "code",
      "source": [],
      "metadata": {
        "id": "0vYQZ_JvNRyk"
      },
      "execution_count": null,
      "outputs": []
    },
    {
      "cell_type": "code",
      "source": [
        "#데이터 x, y 나누기\n",
        "\n",
        "x=df.drop(columns=['상호','휘발유','경유', '평균 공시지가(원/㎡)']) # 독립변수 설정\n",
        "y=df['휘발유']"
      ],
      "metadata": {
        "id": "kmTdAtqNalFK"
      },
      "execution_count": null,
      "outputs": []
    },
    {
      "cell_type": "code",
      "source": [
        "#############"
      ],
      "metadata": {
        "id": "H-DaF9rMbxjg"
      },
      "execution_count": null,
      "outputs": []
    },
    {
      "cell_type": "code",
      "source": [
        "x"
      ],
      "metadata": {
        "colab": {
          "base_uri": "https://localhost:8080/",
          "height": 423
        },
        "id": "60pw-k9FQSFS",
        "outputId": "7b26b17c-0126-41ef-f967-600d1c9f492d"
      },
      "execution_count": null,
      "outputs": [
        {
          "output_type": "execute_result",
          "data": {
            "text/plain": [
              "           상표 셀프여부 법정동명  month  공시지가(원/㎡)  Dubai  14일 전 환율\n",
              "0       SK에너지   셀프  논현동      1  9670000.0  76.17    1294.7\n",
              "1       SK에너지   셀프  논현동      1  9670000.0  76.83    1298.7\n",
              "2       SK에너지   셀프  논현동      1  9670000.0  79.06    1304.7\n",
              "3       SK에너지   셀프  논현동      1  9670000.0  78.84    1300.2\n",
              "4       SK에너지   셀프  논현동      1  9670000.0  79.12    1303.8\n",
              "...       ...  ...  ...    ...        ...    ...       ...\n",
              "117722  GS칼텍스   셀프  망우동     12  2913000.0  73.68    1431.4\n",
              "117723  GS칼텍스   셀프  망우동     12  2913000.0  73.47    1431.5\n",
              "117724  GS칼텍스   셀프  망우동     12  2913000.0  73.47    1431.5\n",
              "117725  GS칼텍스   셀프  망우동     12  2913000.0  74.14    1432.7\n",
              "117726  GS칼텍스   셀프  망우동     12  2913000.0  73.54    1434.9\n",
              "\n",
              "[117727 rows x 7 columns]"
            ],
            "text/html": [
              "\n",
              "  <div id=\"df-ed15dcc3-457c-4fb2-b85d-fb70fe0e326b\" class=\"colab-df-container\">\n",
              "    <div>\n",
              "<style scoped>\n",
              "    .dataframe tbody tr th:only-of-type {\n",
              "        vertical-align: middle;\n",
              "    }\n",
              "\n",
              "    .dataframe tbody tr th {\n",
              "        vertical-align: top;\n",
              "    }\n",
              "\n",
              "    .dataframe thead th {\n",
              "        text-align: right;\n",
              "    }\n",
              "</style>\n",
              "<table border=\"1\" class=\"dataframe\">\n",
              "  <thead>\n",
              "    <tr style=\"text-align: right;\">\n",
              "      <th></th>\n",
              "      <th>상표</th>\n",
              "      <th>셀프여부</th>\n",
              "      <th>법정동명</th>\n",
              "      <th>month</th>\n",
              "      <th>공시지가(원/㎡)</th>\n",
              "      <th>Dubai</th>\n",
              "      <th>14일 전 환율</th>\n",
              "    </tr>\n",
              "  </thead>\n",
              "  <tbody>\n",
              "    <tr>\n",
              "      <th>0</th>\n",
              "      <td>SK에너지</td>\n",
              "      <td>셀프</td>\n",
              "      <td>논현동</td>\n",
              "      <td>1</td>\n",
              "      <td>9670000.0</td>\n",
              "      <td>76.17</td>\n",
              "      <td>1294.7</td>\n",
              "    </tr>\n",
              "    <tr>\n",
              "      <th>1</th>\n",
              "      <td>SK에너지</td>\n",
              "      <td>셀프</td>\n",
              "      <td>논현동</td>\n",
              "      <td>1</td>\n",
              "      <td>9670000.0</td>\n",
              "      <td>76.83</td>\n",
              "      <td>1298.7</td>\n",
              "    </tr>\n",
              "    <tr>\n",
              "      <th>2</th>\n",
              "      <td>SK에너지</td>\n",
              "      <td>셀프</td>\n",
              "      <td>논현동</td>\n",
              "      <td>1</td>\n",
              "      <td>9670000.0</td>\n",
              "      <td>79.06</td>\n",
              "      <td>1304.7</td>\n",
              "    </tr>\n",
              "    <tr>\n",
              "      <th>3</th>\n",
              "      <td>SK에너지</td>\n",
              "      <td>셀프</td>\n",
              "      <td>논현동</td>\n",
              "      <td>1</td>\n",
              "      <td>9670000.0</td>\n",
              "      <td>78.84</td>\n",
              "      <td>1300.2</td>\n",
              "    </tr>\n",
              "    <tr>\n",
              "      <th>4</th>\n",
              "      <td>SK에너지</td>\n",
              "      <td>셀프</td>\n",
              "      <td>논현동</td>\n",
              "      <td>1</td>\n",
              "      <td>9670000.0</td>\n",
              "      <td>79.12</td>\n",
              "      <td>1303.8</td>\n",
              "    </tr>\n",
              "    <tr>\n",
              "      <th>...</th>\n",
              "      <td>...</td>\n",
              "      <td>...</td>\n",
              "      <td>...</td>\n",
              "      <td>...</td>\n",
              "      <td>...</td>\n",
              "      <td>...</td>\n",
              "      <td>...</td>\n",
              "    </tr>\n",
              "    <tr>\n",
              "      <th>117722</th>\n",
              "      <td>GS칼텍스</td>\n",
              "      <td>셀프</td>\n",
              "      <td>망우동</td>\n",
              "      <td>12</td>\n",
              "      <td>2913000.0</td>\n",
              "      <td>73.68</td>\n",
              "      <td>1431.4</td>\n",
              "    </tr>\n",
              "    <tr>\n",
              "      <th>117723</th>\n",
              "      <td>GS칼텍스</td>\n",
              "      <td>셀프</td>\n",
              "      <td>망우동</td>\n",
              "      <td>12</td>\n",
              "      <td>2913000.0</td>\n",
              "      <td>73.47</td>\n",
              "      <td>1431.5</td>\n",
              "    </tr>\n",
              "    <tr>\n",
              "      <th>117724</th>\n",
              "      <td>GS칼텍스</td>\n",
              "      <td>셀프</td>\n",
              "      <td>망우동</td>\n",
              "      <td>12</td>\n",
              "      <td>2913000.0</td>\n",
              "      <td>73.47</td>\n",
              "      <td>1431.5</td>\n",
              "    </tr>\n",
              "    <tr>\n",
              "      <th>117725</th>\n",
              "      <td>GS칼텍스</td>\n",
              "      <td>셀프</td>\n",
              "      <td>망우동</td>\n",
              "      <td>12</td>\n",
              "      <td>2913000.0</td>\n",
              "      <td>74.14</td>\n",
              "      <td>1432.7</td>\n",
              "    </tr>\n",
              "    <tr>\n",
              "      <th>117726</th>\n",
              "      <td>GS칼텍스</td>\n",
              "      <td>셀프</td>\n",
              "      <td>망우동</td>\n",
              "      <td>12</td>\n",
              "      <td>2913000.0</td>\n",
              "      <td>73.54</td>\n",
              "      <td>1434.9</td>\n",
              "    </tr>\n",
              "  </tbody>\n",
              "</table>\n",
              "<p>117727 rows × 7 columns</p>\n",
              "</div>\n",
              "    <div class=\"colab-df-buttons\">\n",
              "\n",
              "  <div class=\"colab-df-container\">\n",
              "    <button class=\"colab-df-convert\" onclick=\"convertToInteractive('df-ed15dcc3-457c-4fb2-b85d-fb70fe0e326b')\"\n",
              "            title=\"Convert this dataframe to an interactive table.\"\n",
              "            style=\"display:none;\">\n",
              "\n",
              "  <svg xmlns=\"http://www.w3.org/2000/svg\" height=\"24px\" viewBox=\"0 -960 960 960\">\n",
              "    <path d=\"M120-120v-720h720v720H120Zm60-500h600v-160H180v160Zm220 220h160v-160H400v160Zm0 220h160v-160H400v160ZM180-400h160v-160H180v160Zm440 0h160v-160H620v160ZM180-180h160v-160H180v160Zm440 0h160v-160H620v160Z\"/>\n",
              "  </svg>\n",
              "    </button>\n",
              "\n",
              "  <style>\n",
              "    .colab-df-container {\n",
              "      display:flex;\n",
              "      gap: 12px;\n",
              "    }\n",
              "\n",
              "    .colab-df-convert {\n",
              "      background-color: #E8F0FE;\n",
              "      border: none;\n",
              "      border-radius: 50%;\n",
              "      cursor: pointer;\n",
              "      display: none;\n",
              "      fill: #1967D2;\n",
              "      height: 32px;\n",
              "      padding: 0 0 0 0;\n",
              "      width: 32px;\n",
              "    }\n",
              "\n",
              "    .colab-df-convert:hover {\n",
              "      background-color: #E2EBFA;\n",
              "      box-shadow: 0px 1px 2px rgba(60, 64, 67, 0.3), 0px 1px 3px 1px rgba(60, 64, 67, 0.15);\n",
              "      fill: #174EA6;\n",
              "    }\n",
              "\n",
              "    .colab-df-buttons div {\n",
              "      margin-bottom: 4px;\n",
              "    }\n",
              "\n",
              "    [theme=dark] .colab-df-convert {\n",
              "      background-color: #3B4455;\n",
              "      fill: #D2E3FC;\n",
              "    }\n",
              "\n",
              "    [theme=dark] .colab-df-convert:hover {\n",
              "      background-color: #434B5C;\n",
              "      box-shadow: 0px 1px 3px 1px rgba(0, 0, 0, 0.15);\n",
              "      filter: drop-shadow(0px 1px 2px rgba(0, 0, 0, 0.3));\n",
              "      fill: #FFFFFF;\n",
              "    }\n",
              "  </style>\n",
              "\n",
              "    <script>\n",
              "      const buttonEl =\n",
              "        document.querySelector('#df-ed15dcc3-457c-4fb2-b85d-fb70fe0e326b button.colab-df-convert');\n",
              "      buttonEl.style.display =\n",
              "        google.colab.kernel.accessAllowed ? 'block' : 'none';\n",
              "\n",
              "      async function convertToInteractive(key) {\n",
              "        const element = document.querySelector('#df-ed15dcc3-457c-4fb2-b85d-fb70fe0e326b');\n",
              "        const dataTable =\n",
              "          await google.colab.kernel.invokeFunction('convertToInteractive',\n",
              "                                                    [key], {});\n",
              "        if (!dataTable) return;\n",
              "\n",
              "        const docLinkHtml = 'Like what you see? Visit the ' +\n",
              "          '<a target=\"_blank\" href=https://colab.research.google.com/notebooks/data_table.ipynb>data table notebook</a>'\n",
              "          + ' to learn more about interactive tables.';\n",
              "        element.innerHTML = '';\n",
              "        dataTable['output_type'] = 'display_data';\n",
              "        await google.colab.output.renderOutput(dataTable, element);\n",
              "        const docLink = document.createElement('div');\n",
              "        docLink.innerHTML = docLinkHtml;\n",
              "        element.appendChild(docLink);\n",
              "      }\n",
              "    </script>\n",
              "  </div>\n",
              "\n",
              "\n",
              "<div id=\"df-095152a9-5aa5-4467-a285-08c63f911538\">\n",
              "  <button class=\"colab-df-quickchart\" onclick=\"quickchart('df-095152a9-5aa5-4467-a285-08c63f911538')\"\n",
              "            title=\"Suggest charts\"\n",
              "            style=\"display:none;\">\n",
              "\n",
              "<svg xmlns=\"http://www.w3.org/2000/svg\" height=\"24px\"viewBox=\"0 0 24 24\"\n",
              "     width=\"24px\">\n",
              "    <g>\n",
              "        <path d=\"M19 3H5c-1.1 0-2 .9-2 2v14c0 1.1.9 2 2 2h14c1.1 0 2-.9 2-2V5c0-1.1-.9-2-2-2zM9 17H7v-7h2v7zm4 0h-2V7h2v10zm4 0h-2v-4h2v4z\"/>\n",
              "    </g>\n",
              "</svg>\n",
              "  </button>\n",
              "\n",
              "<style>\n",
              "  .colab-df-quickchart {\n",
              "      --bg-color: #E8F0FE;\n",
              "      --fill-color: #1967D2;\n",
              "      --hover-bg-color: #E2EBFA;\n",
              "      --hover-fill-color: #174EA6;\n",
              "      --disabled-fill-color: #AAA;\n",
              "      --disabled-bg-color: #DDD;\n",
              "  }\n",
              "\n",
              "  [theme=dark] .colab-df-quickchart {\n",
              "      --bg-color: #3B4455;\n",
              "      --fill-color: #D2E3FC;\n",
              "      --hover-bg-color: #434B5C;\n",
              "      --hover-fill-color: #FFFFFF;\n",
              "      --disabled-bg-color: #3B4455;\n",
              "      --disabled-fill-color: #666;\n",
              "  }\n",
              "\n",
              "  .colab-df-quickchart {\n",
              "    background-color: var(--bg-color);\n",
              "    border: none;\n",
              "    border-radius: 50%;\n",
              "    cursor: pointer;\n",
              "    display: none;\n",
              "    fill: var(--fill-color);\n",
              "    height: 32px;\n",
              "    padding: 0;\n",
              "    width: 32px;\n",
              "  }\n",
              "\n",
              "  .colab-df-quickchart:hover {\n",
              "    background-color: var(--hover-bg-color);\n",
              "    box-shadow: 0 1px 2px rgba(60, 64, 67, 0.3), 0 1px 3px 1px rgba(60, 64, 67, 0.15);\n",
              "    fill: var(--button-hover-fill-color);\n",
              "  }\n",
              "\n",
              "  .colab-df-quickchart-complete:disabled,\n",
              "  .colab-df-quickchart-complete:disabled:hover {\n",
              "    background-color: var(--disabled-bg-color);\n",
              "    fill: var(--disabled-fill-color);\n",
              "    box-shadow: none;\n",
              "  }\n",
              "\n",
              "  .colab-df-spinner {\n",
              "    border: 2px solid var(--fill-color);\n",
              "    border-color: transparent;\n",
              "    border-bottom-color: var(--fill-color);\n",
              "    animation:\n",
              "      spin 1s steps(1) infinite;\n",
              "  }\n",
              "\n",
              "  @keyframes spin {\n",
              "    0% {\n",
              "      border-color: transparent;\n",
              "      border-bottom-color: var(--fill-color);\n",
              "      border-left-color: var(--fill-color);\n",
              "    }\n",
              "    20% {\n",
              "      border-color: transparent;\n",
              "      border-left-color: var(--fill-color);\n",
              "      border-top-color: var(--fill-color);\n",
              "    }\n",
              "    30% {\n",
              "      border-color: transparent;\n",
              "      border-left-color: var(--fill-color);\n",
              "      border-top-color: var(--fill-color);\n",
              "      border-right-color: var(--fill-color);\n",
              "    }\n",
              "    40% {\n",
              "      border-color: transparent;\n",
              "      border-right-color: var(--fill-color);\n",
              "      border-top-color: var(--fill-color);\n",
              "    }\n",
              "    60% {\n",
              "      border-color: transparent;\n",
              "      border-right-color: var(--fill-color);\n",
              "    }\n",
              "    80% {\n",
              "      border-color: transparent;\n",
              "      border-right-color: var(--fill-color);\n",
              "      border-bottom-color: var(--fill-color);\n",
              "    }\n",
              "    90% {\n",
              "      border-color: transparent;\n",
              "      border-bottom-color: var(--fill-color);\n",
              "    }\n",
              "  }\n",
              "</style>\n",
              "\n",
              "  <script>\n",
              "    async function quickchart(key) {\n",
              "      const quickchartButtonEl =\n",
              "        document.querySelector('#' + key + ' button');\n",
              "      quickchartButtonEl.disabled = true;  // To prevent multiple clicks.\n",
              "      quickchartButtonEl.classList.add('colab-df-spinner');\n",
              "      try {\n",
              "        const charts = await google.colab.kernel.invokeFunction(\n",
              "            'suggestCharts', [key], {});\n",
              "      } catch (error) {\n",
              "        console.error('Error during call to suggestCharts:', error);\n",
              "      }\n",
              "      quickchartButtonEl.classList.remove('colab-df-spinner');\n",
              "      quickchartButtonEl.classList.add('colab-df-quickchart-complete');\n",
              "    }\n",
              "    (() => {\n",
              "      let quickchartButtonEl =\n",
              "        document.querySelector('#df-095152a9-5aa5-4467-a285-08c63f911538 button');\n",
              "      quickchartButtonEl.style.display =\n",
              "        google.colab.kernel.accessAllowed ? 'block' : 'none';\n",
              "    })();\n",
              "  </script>\n",
              "</div>\n",
              "\n",
              "  <div id=\"id_b0215272-06bb-41b8-9230-abc2ecf3a16b\">\n",
              "    <style>\n",
              "      .colab-df-generate {\n",
              "        background-color: #E8F0FE;\n",
              "        border: none;\n",
              "        border-radius: 50%;\n",
              "        cursor: pointer;\n",
              "        display: none;\n",
              "        fill: #1967D2;\n",
              "        height: 32px;\n",
              "        padding: 0 0 0 0;\n",
              "        width: 32px;\n",
              "      }\n",
              "\n",
              "      .colab-df-generate:hover {\n",
              "        background-color: #E2EBFA;\n",
              "        box-shadow: 0px 1px 2px rgba(60, 64, 67, 0.3), 0px 1px 3px 1px rgba(60, 64, 67, 0.15);\n",
              "        fill: #174EA6;\n",
              "      }\n",
              "\n",
              "      [theme=dark] .colab-df-generate {\n",
              "        background-color: #3B4455;\n",
              "        fill: #D2E3FC;\n",
              "      }\n",
              "\n",
              "      [theme=dark] .colab-df-generate:hover {\n",
              "        background-color: #434B5C;\n",
              "        box-shadow: 0px 1px 3px 1px rgba(0, 0, 0, 0.15);\n",
              "        filter: drop-shadow(0px 1px 2px rgba(0, 0, 0, 0.3));\n",
              "        fill: #FFFFFF;\n",
              "      }\n",
              "    </style>\n",
              "    <button class=\"colab-df-generate\" onclick=\"generateWithVariable('x')\"\n",
              "            title=\"Generate code using this dataframe.\"\n",
              "            style=\"display:none;\">\n",
              "\n",
              "  <svg xmlns=\"http://www.w3.org/2000/svg\" height=\"24px\"viewBox=\"0 0 24 24\"\n",
              "       width=\"24px\">\n",
              "    <path d=\"M7,19H8.4L18.45,9,17,7.55,7,17.6ZM5,21V16.75L18.45,3.32a2,2,0,0,1,2.83,0l1.4,1.43a1.91,1.91,0,0,1,.58,1.4,1.91,1.91,0,0,1-.58,1.4L9.25,21ZM18.45,9,17,7.55Zm-12,3A5.31,5.31,0,0,0,4.9,8.1,5.31,5.31,0,0,0,1,6.5,5.31,5.31,0,0,0,4.9,4.9,5.31,5.31,0,0,0,6.5,1,5.31,5.31,0,0,0,8.1,4.9,5.31,5.31,0,0,0,12,6.5,5.46,5.46,0,0,0,6.5,12Z\"/>\n",
              "  </svg>\n",
              "    </button>\n",
              "    <script>\n",
              "      (() => {\n",
              "      const buttonEl =\n",
              "        document.querySelector('#id_b0215272-06bb-41b8-9230-abc2ecf3a16b button.colab-df-generate');\n",
              "      buttonEl.style.display =\n",
              "        google.colab.kernel.accessAllowed ? 'block' : 'none';\n",
              "\n",
              "      buttonEl.onclick = () => {\n",
              "        google.colab.notebook.generateWithVariable('x');\n",
              "      }\n",
              "      })();\n",
              "    </script>\n",
              "  </div>\n",
              "\n",
              "    </div>\n",
              "  </div>\n"
            ],
            "application/vnd.google.colaboratory.intrinsic+json": {
              "type": "dataframe",
              "variable_name": "x"
            }
          },
          "metadata": {},
          "execution_count": 13
        }
      ]
    },
    {
      "cell_type": "code",
      "source": [
        "#독립변수의 범주형 변수 원핫인코딩\n",
        "x=pd.get_dummies(x, columns=['상표','셀프여부', '법정동명' ,'month'],drop_first=True)"
      ],
      "metadata": {
        "collapsed": true,
        "id": "LnmtgnYpbx81"
      },
      "execution_count": null,
      "outputs": []
    },
    {
      "cell_type": "code",
      "source": [
        "from sklearn.model_selection import train_test_split\n",
        "x_train,x_test,y_train,y_test=train_test_split(x,y,test_size=0.2,random_state=42)"
      ],
      "metadata": {
        "id": "XLjQsmYtfsYq"
      },
      "execution_count": null,
      "outputs": []
    },
    {
      "cell_type": "code",
      "source": [
        "#scaling standard scaling 적용예정\n",
        "from sklearn.preprocessing import StandardScaler"
      ],
      "metadata": {
        "id": "aXOS2eSsfY9j"
      },
      "execution_count": null,
      "outputs": []
    },
    {
      "cell_type": "markdown",
      "source": [],
      "metadata": {
        "id": "Tb3_15wwaMKC"
      }
    },
    {
      "cell_type": "code",
      "source": [
        "scaler = StandardScaler()\n",
        "num_col=['공시지가(원/㎡)','Dubai', '14일 전 환율']\n",
        "x_train[num_col]=scaler.fit_transform(x_train[num_col])\n",
        "x_test[num_col] = scaler.transform(x_test[num_col])\n",
        "\n",
        "#확인\n",
        "print(x_train[num_col].head())"
      ],
      "metadata": {
        "colab": {
          "base_uri": "https://localhost:8080/"
        },
        "id": "JLmM9dVWferi",
        "outputId": "772507ce-880c-4a67-a9e6-6fdef2579cc1"
      },
      "execution_count": null,
      "outputs": [
        {
          "output_type": "stream",
          "name": "stdout",
          "text": [
            "        공시지가(원/㎡)     Dubai  14일 전 환율\n",
            "36611    1.283893  1.220348 -0.352830\n",
            "85328   -0.262033 -1.072210  2.470971\n",
            "53580   -0.281077  0.807800  0.689248\n",
            "37934   -0.547702  0.323670 -0.773606\n",
            "107682   3.675234 -0.049318  0.889774\n"
          ]
        }
      ]
    },
    {
      "cell_type": "code",
      "source": [],
      "metadata": {
        "id": "1WGTkVYhntji"
      },
      "execution_count": null,
      "outputs": []
    },
    {
      "cell_type": "markdown",
      "source": [
        "##1. RandomForest Regression"
      ],
      "metadata": {
        "id": "7W99mlw5rNpI"
      }
    },
    {
      "cell_type": "code",
      "source": [
        "## 1. RandomForest Regression\n",
        "from sklearn.ensemble import RandomForestRegressor"
      ],
      "metadata": {
        "id": "JE6bglKNiVd-"
      },
      "execution_count": null,
      "outputs": []
    },
    {
      "cell_type": "code",
      "source": [
        "random_forest=RandomForestRegressor(\n",
        "    n_estimators=200,\n",
        "    random_state=42,\n",
        "    max_depth=20,\n",
        "    min_samples_leaf=1,\n",
        "    min_samples_split=4\n",
        "    )"
      ],
      "metadata": {
        "id": "Hs8akGEAjHlJ"
      },
      "execution_count": null,
      "outputs": []
    },
    {
      "cell_type": "code",
      "source": [
        "random_forest.fit(x_train, y_train)"
      ],
      "metadata": {
        "collapsed": true,
        "id": "4j3FNTAHov-B"
      },
      "execution_count": null,
      "outputs": []
    },
    {
      "cell_type": "code",
      "source": [
        "pred_random_forest = random_forest.predict(x_test)"
      ],
      "metadata": {
        "id": "qG1AOI5mpmjX"
      },
      "execution_count": null,
      "outputs": []
    },
    {
      "cell_type": "markdown",
      "source": [
        "##Random Forest 평가"
      ],
      "metadata": {
        "id": "-DKS4BRLrM7C"
      }
    },
    {
      "cell_type": "code",
      "source": [],
      "metadata": {
        "id": "GbFfM_VJE2Vz"
      },
      "execution_count": null,
      "outputs": []
    },
    {
      "cell_type": "code",
      "source": [],
      "metadata": {
        "id": "AL8XNaLCE2Ta"
      },
      "execution_count": null,
      "outputs": []
    },
    {
      "cell_type": "code",
      "source": [
        "from sklearn.metrics import mean_squared_error, r2_score, mean_absolute_error\n",
        "\n",
        "test_mse = mean_squared_error(y_test, pred_random_forest) # mse\n",
        "test_r2 = r2_score(y_test, pred_random_forest) # r2\n",
        "test_mae = mean_absolute_error(y_test, pred_random_forest) # mae\n",
        "\n",
        "\n",
        "print(f'MAE : {test_mae : .2f}')\n",
        "print(f'MSE: :{test_mse : .2f}')\n",
        "print(f'R2 : {test_r2 : .3f}')\n"
      ],
      "metadata": {
        "id": "qx0SLFlAp3ih"
      },
      "execution_count": null,
      "outputs": []
    },
    {
      "cell_type": "code",
      "source": [
        "y_train_pred = random_forest.predict(x_train)\n",
        "train_mse = mean_squared_error(y_train, y_train_pred)\n",
        "train_r2 = r2_score(y_train, y_train_pred)\n",
        "\n",
        "print(f'MSE: :{train_mse : .2f}')\n",
        "print(f'R2 : {train_r2 : .3f}')\n",
        "\n",
        "print(f'MSE차이 : {test_mse-train_mse :.2f}')\n",
        "print(f'R2 차이 : {train_r2-test_r2 : .3f}')"
      ],
      "metadata": {
        "id": "qzT-JzdfLpa5"
      },
      "execution_count": null,
      "outputs": []
    },
    {
      "cell_type": "code",
      "source": [],
      "metadata": {
        "id": "etmH9-_iocbq"
      },
      "execution_count": null,
      "outputs": []
    },
    {
      "cell_type": "code",
      "source": [],
      "metadata": {
        "id": "Q6WdIUJ5ocY3"
      },
      "execution_count": null,
      "outputs": []
    },
    {
      "cell_type": "markdown",
      "source": [
        "## Linear Regression"
      ],
      "metadata": {
        "id": "xjVCna02nw8_"
      }
    },
    {
      "cell_type": "code",
      "source": [
        "from sklearn.linear_model import LinearRegression\n",
        "\n",
        "linear_regression=LinearRegression()\n",
        "linear_regression.fit(x_train,y_train)\n"
      ],
      "metadata": {
        "id": "vcKYYYMSnq99"
      },
      "execution_count": null,
      "outputs": []
    },
    {
      "cell_type": "code",
      "source": [
        "pred_linear_regression=linear_regression.predict(x_test)"
      ],
      "metadata": {
        "id": "HTNzl0OhoLoR"
      },
      "execution_count": null,
      "outputs": []
    },
    {
      "cell_type": "markdown",
      "source": [
        "## 평가"
      ],
      "metadata": {
        "id": "N2zBi4WloaXt"
      }
    },
    {
      "cell_type": "code",
      "source": [
        "test_mse_lr= mean_squared_error(y_test, pred_linear_regression)\n",
        "test_mae_lr= mean_absolute_error(y_test, pred_linear_regression)\n",
        "test_r2_lr=r2_score(y_test,pred_linear_regression)\n",
        "\n",
        "print(f'MAE : {test_mae_lr : .2f}')\n",
        "print(f'MSE: :{test_mse_lr : .2f}')\n",
        "print(f'R2 : {test_r2_lr : .3f}')\n",
        "\n",
        "y_train_pred_lr = linear_regression.predict(x_train)\n",
        "train_mse_lr= mean_squared_error(y_train, y_train_pred_lr)\n",
        "train_r2_lr=r2_score(y_train,y_train_pred_lr)\n",
        "\n",
        "print(f'MSE: :{train_mse_lr : .2f}')\n",
        "print(f'R2 : {train_r2_lr : .3f}')\n",
        "\n",
        "\n",
        "print(f'MSE차이 : {test_mse_lr-train_mse_lr :.2f}')\n",
        "print(f'R2 차이 : {train_r2_lr-test_r2_lr : .3f}')"
      ],
      "metadata": {
        "id": "w-ANZcGwoaGn"
      },
      "execution_count": null,
      "outputs": []
    },
    {
      "cell_type": "markdown",
      "source": [
        "## XGBoost\n",
        "Gradient Boosting 기반으로 동작하며, XGBRegressor를 활용해 모델링  \n",
        "하이퍼파라미터-트리 개수(n_estimators), 최대 깊이(max_depth), 학습률(learning_rate)"
      ],
      "metadata": {
        "id": "q0yiarRqtGVP"
      }
    },
    {
      "cell_type": "code",
      "source": [
        "# 1. XGBoost 모델 초기화\n",
        "from xgboost import XGBRegressor\n",
        "\n",
        "xgboost = XGBRegressor(\n",
        "    n_estimators=300,      # 생성할 트리의 개수\n",
        "    max_depth=20,          # 트리의 최대 깊이\n",
        "    learning_rate=0.1,     # 학습률\n",
        "    random_state=42        # 재현성을 위한 난수 고정\n",
        ")"
      ],
      "metadata": {
        "id": "X7khuek6tTdm"
      },
      "execution_count": null,
      "outputs": []
    },
    {
      "cell_type": "code",
      "source": [
        "# 2. 모델 학습\n",
        "xgboost.fit(x_train, y_train)"
      ],
      "metadata": {
        "id": "8ejku4C_tFhf"
      },
      "execution_count": null,
      "outputs": []
    },
    {
      "cell_type": "code",
      "source": [
        "# 3. 예측\n",
        "pred_xgboost = xgboost.predict(x_test)"
      ],
      "metadata": {
        "id": "SSMWyYNntuuF"
      },
      "execution_count": null,
      "outputs": []
    },
    {
      "cell_type": "markdown",
      "source": [
        "## 평가"
      ],
      "metadata": {
        "id": "Hnqe6zEtt87H"
      }
    },
    {
      "cell_type": "code",
      "source": [
        "from sklearn.metrics import mean_squared_error, r2_score, mean_absolute_error\n",
        "# 4. 평가\n",
        "test_mse_xgboost = mean_squared_error(y_test, pred_xgboost)\n",
        "test_mae_xgboost = mean_absolute_error(y_test, pred_xgboost)\n",
        "test_r2_xgboost = r2_score(y_test, pred_xgboost)\n",
        "\n",
        "print(f'XGBoost MAE: {test_mae_xgboost:.2f}')\n",
        "print(f'XGBoost MSE: {test_mse_xgboost:.2f}')\n",
        "print(f'XGBoost R2: {test_r2_xgboost:.3f}')"
      ],
      "metadata": {
        "id": "yY6GHBExtyKY"
      },
      "execution_count": null,
      "outputs": []
    },
    {
      "cell_type": "code",
      "source": [
        "y_train_pred_xgboost = xgboost.predict(x_train)\n",
        "train_mse_xgboost = mean_squared_error(y_train, y_train_pred_xgboost)\n",
        "train_r2_xgboost = r2_score(y_train, y_train_pred_xgboost)\n",
        "\n",
        "print(f'XGBoost Train MSE: {train_mse_xgboost:.2f}')\n",
        "print(f'XGBoost Train R2: {train_r2_xgboost:.3f}')\n",
        "print(f'XGBoost MSE Diff: {test_mse_xgboost - train_mse_xgboost:.2f}')\n",
        "print(f'XGBoost R2 Diff: {train_r2_xgboost - test_r2_xgboost:.3f}')"
      ],
      "metadata": {
        "id": "l0NdOVBmt0ay"
      },
      "execution_count": null,
      "outputs": []
    },
    {
      "cell_type": "markdown",
      "source": [
        "## KNN 모델링"
      ],
      "metadata": {
        "id": "8OuxO3Yet7vh"
      }
    },
    {
      "cell_type": "code",
      "source": [
        "# 1. KNN 모델 초기화\n",
        "from sklearn.neighbors import KNeighborsRegressor\n",
        "\n",
        "knn = KNeighborsRegressor(\n",
        "    n_neighbors=3,         # 고려할 이웃의 개수\n",
        "    weights='distance',     # 이웃 간 동일한 가중치\n",
        "    metric='minkowski',    # 거리 측정 기준 (디폴트: 유클리드 거리)\n",
        "    p=1                    # k=1이면 맨해튼\n",
        ")"
      ],
      "metadata": {
        "id": "9fsOKngNt2vZ"
      },
      "execution_count": null,
      "outputs": []
    },
    {
      "cell_type": "code",
      "source": [
        "# 2. 모델 학습\n",
        "knn.fit(x_train, y_train)"
      ],
      "metadata": {
        "colab": {
          "base_uri": "https://localhost:8080/",
          "height": 79
        },
        "id": "OKWlQXZMuJeW",
        "outputId": "14afe4cc-3521-47dc-83b8-7029a4633f78"
      },
      "execution_count": null,
      "outputs": [
        {
          "output_type": "execute_result",
          "data": {
            "text/plain": [
              "KNeighborsRegressor(n_neighbors=3, p=1, weights='distance')"
            ],
            "text/html": [
              "<style>#sk-container-id-2 {\n",
              "  /* Definition of color scheme common for light and dark mode */\n",
              "  --sklearn-color-text: #000;\n",
              "  --sklearn-color-text-muted: #666;\n",
              "  --sklearn-color-line: gray;\n",
              "  /* Definition of color scheme for unfitted estimators */\n",
              "  --sklearn-color-unfitted-level-0: #fff5e6;\n",
              "  --sklearn-color-unfitted-level-1: #f6e4d2;\n",
              "  --sklearn-color-unfitted-level-2: #ffe0b3;\n",
              "  --sklearn-color-unfitted-level-3: chocolate;\n",
              "  /* Definition of color scheme for fitted estimators */\n",
              "  --sklearn-color-fitted-level-0: #f0f8ff;\n",
              "  --sklearn-color-fitted-level-1: #d4ebff;\n",
              "  --sklearn-color-fitted-level-2: #b3dbfd;\n",
              "  --sklearn-color-fitted-level-3: cornflowerblue;\n",
              "\n",
              "  /* Specific color for light theme */\n",
              "  --sklearn-color-text-on-default-background: var(--sg-text-color, var(--theme-code-foreground, var(--jp-content-font-color1, black)));\n",
              "  --sklearn-color-background: var(--sg-background-color, var(--theme-background, var(--jp-layout-color0, white)));\n",
              "  --sklearn-color-border-box: var(--sg-text-color, var(--theme-code-foreground, var(--jp-content-font-color1, black)));\n",
              "  --sklearn-color-icon: #696969;\n",
              "\n",
              "  @media (prefers-color-scheme: dark) {\n",
              "    /* Redefinition of color scheme for dark theme */\n",
              "    --sklearn-color-text-on-default-background: var(--sg-text-color, var(--theme-code-foreground, var(--jp-content-font-color1, white)));\n",
              "    --sklearn-color-background: var(--sg-background-color, var(--theme-background, var(--jp-layout-color0, #111)));\n",
              "    --sklearn-color-border-box: var(--sg-text-color, var(--theme-code-foreground, var(--jp-content-font-color1, white)));\n",
              "    --sklearn-color-icon: #878787;\n",
              "  }\n",
              "}\n",
              "\n",
              "#sk-container-id-2 {\n",
              "  color: var(--sklearn-color-text);\n",
              "}\n",
              "\n",
              "#sk-container-id-2 pre {\n",
              "  padding: 0;\n",
              "}\n",
              "\n",
              "#sk-container-id-2 input.sk-hidden--visually {\n",
              "  border: 0;\n",
              "  clip: rect(1px 1px 1px 1px);\n",
              "  clip: rect(1px, 1px, 1px, 1px);\n",
              "  height: 1px;\n",
              "  margin: -1px;\n",
              "  overflow: hidden;\n",
              "  padding: 0;\n",
              "  position: absolute;\n",
              "  width: 1px;\n",
              "}\n",
              "\n",
              "#sk-container-id-2 div.sk-dashed-wrapped {\n",
              "  border: 1px dashed var(--sklearn-color-line);\n",
              "  margin: 0 0.4em 0.5em 0.4em;\n",
              "  box-sizing: border-box;\n",
              "  padding-bottom: 0.4em;\n",
              "  background-color: var(--sklearn-color-background);\n",
              "}\n",
              "\n",
              "#sk-container-id-2 div.sk-container {\n",
              "  /* jupyter's `normalize.less` sets `[hidden] { display: none; }`\n",
              "     but bootstrap.min.css set `[hidden] { display: none !important; }`\n",
              "     so we also need the `!important` here to be able to override the\n",
              "     default hidden behavior on the sphinx rendered scikit-learn.org.\n",
              "     See: https://github.com/scikit-learn/scikit-learn/issues/21755 */\n",
              "  display: inline-block !important;\n",
              "  position: relative;\n",
              "}\n",
              "\n",
              "#sk-container-id-2 div.sk-text-repr-fallback {\n",
              "  display: none;\n",
              "}\n",
              "\n",
              "div.sk-parallel-item,\n",
              "div.sk-serial,\n",
              "div.sk-item {\n",
              "  /* draw centered vertical line to link estimators */\n",
              "  background-image: linear-gradient(var(--sklearn-color-text-on-default-background), var(--sklearn-color-text-on-default-background));\n",
              "  background-size: 2px 100%;\n",
              "  background-repeat: no-repeat;\n",
              "  background-position: center center;\n",
              "}\n",
              "\n",
              "/* Parallel-specific style estimator block */\n",
              "\n",
              "#sk-container-id-2 div.sk-parallel-item::after {\n",
              "  content: \"\";\n",
              "  width: 100%;\n",
              "  border-bottom: 2px solid var(--sklearn-color-text-on-default-background);\n",
              "  flex-grow: 1;\n",
              "}\n",
              "\n",
              "#sk-container-id-2 div.sk-parallel {\n",
              "  display: flex;\n",
              "  align-items: stretch;\n",
              "  justify-content: center;\n",
              "  background-color: var(--sklearn-color-background);\n",
              "  position: relative;\n",
              "}\n",
              "\n",
              "#sk-container-id-2 div.sk-parallel-item {\n",
              "  display: flex;\n",
              "  flex-direction: column;\n",
              "}\n",
              "\n",
              "#sk-container-id-2 div.sk-parallel-item:first-child::after {\n",
              "  align-self: flex-end;\n",
              "  width: 50%;\n",
              "}\n",
              "\n",
              "#sk-container-id-2 div.sk-parallel-item:last-child::after {\n",
              "  align-self: flex-start;\n",
              "  width: 50%;\n",
              "}\n",
              "\n",
              "#sk-container-id-2 div.sk-parallel-item:only-child::after {\n",
              "  width: 0;\n",
              "}\n",
              "\n",
              "/* Serial-specific style estimator block */\n",
              "\n",
              "#sk-container-id-2 div.sk-serial {\n",
              "  display: flex;\n",
              "  flex-direction: column;\n",
              "  align-items: center;\n",
              "  background-color: var(--sklearn-color-background);\n",
              "  padding-right: 1em;\n",
              "  padding-left: 1em;\n",
              "}\n",
              "\n",
              "\n",
              "/* Toggleable style: style used for estimator/Pipeline/ColumnTransformer box that is\n",
              "clickable and can be expanded/collapsed.\n",
              "- Pipeline and ColumnTransformer use this feature and define the default style\n",
              "- Estimators will overwrite some part of the style using the `sk-estimator` class\n",
              "*/\n",
              "\n",
              "/* Pipeline and ColumnTransformer style (default) */\n",
              "\n",
              "#sk-container-id-2 div.sk-toggleable {\n",
              "  /* Default theme specific background. It is overwritten whether we have a\n",
              "  specific estimator or a Pipeline/ColumnTransformer */\n",
              "  background-color: var(--sklearn-color-background);\n",
              "}\n",
              "\n",
              "/* Toggleable label */\n",
              "#sk-container-id-2 label.sk-toggleable__label {\n",
              "  cursor: pointer;\n",
              "  display: flex;\n",
              "  width: 100%;\n",
              "  margin-bottom: 0;\n",
              "  padding: 0.5em;\n",
              "  box-sizing: border-box;\n",
              "  text-align: center;\n",
              "  align-items: start;\n",
              "  justify-content: space-between;\n",
              "  gap: 0.5em;\n",
              "}\n",
              "\n",
              "#sk-container-id-2 label.sk-toggleable__label .caption {\n",
              "  font-size: 0.6rem;\n",
              "  font-weight: lighter;\n",
              "  color: var(--sklearn-color-text-muted);\n",
              "}\n",
              "\n",
              "#sk-container-id-2 label.sk-toggleable__label-arrow:before {\n",
              "  /* Arrow on the left of the label */\n",
              "  content: \"▸\";\n",
              "  float: left;\n",
              "  margin-right: 0.25em;\n",
              "  color: var(--sklearn-color-icon);\n",
              "}\n",
              "\n",
              "#sk-container-id-2 label.sk-toggleable__label-arrow:hover:before {\n",
              "  color: var(--sklearn-color-text);\n",
              "}\n",
              "\n",
              "/* Toggleable content - dropdown */\n",
              "\n",
              "#sk-container-id-2 div.sk-toggleable__content {\n",
              "  max-height: 0;\n",
              "  max-width: 0;\n",
              "  overflow: hidden;\n",
              "  text-align: left;\n",
              "  /* unfitted */\n",
              "  background-color: var(--sklearn-color-unfitted-level-0);\n",
              "}\n",
              "\n",
              "#sk-container-id-2 div.sk-toggleable__content.fitted {\n",
              "  /* fitted */\n",
              "  background-color: var(--sklearn-color-fitted-level-0);\n",
              "}\n",
              "\n",
              "#sk-container-id-2 div.sk-toggleable__content pre {\n",
              "  margin: 0.2em;\n",
              "  border-radius: 0.25em;\n",
              "  color: var(--sklearn-color-text);\n",
              "  /* unfitted */\n",
              "  background-color: var(--sklearn-color-unfitted-level-0);\n",
              "}\n",
              "\n",
              "#sk-container-id-2 div.sk-toggleable__content.fitted pre {\n",
              "  /* unfitted */\n",
              "  background-color: var(--sklearn-color-fitted-level-0);\n",
              "}\n",
              "\n",
              "#sk-container-id-2 input.sk-toggleable__control:checked~div.sk-toggleable__content {\n",
              "  /* Expand drop-down */\n",
              "  max-height: 200px;\n",
              "  max-width: 100%;\n",
              "  overflow: auto;\n",
              "}\n",
              "\n",
              "#sk-container-id-2 input.sk-toggleable__control:checked~label.sk-toggleable__label-arrow:before {\n",
              "  content: \"▾\";\n",
              "}\n",
              "\n",
              "/* Pipeline/ColumnTransformer-specific style */\n",
              "\n",
              "#sk-container-id-2 div.sk-label input.sk-toggleable__control:checked~label.sk-toggleable__label {\n",
              "  color: var(--sklearn-color-text);\n",
              "  background-color: var(--sklearn-color-unfitted-level-2);\n",
              "}\n",
              "\n",
              "#sk-container-id-2 div.sk-label.fitted input.sk-toggleable__control:checked~label.sk-toggleable__label {\n",
              "  background-color: var(--sklearn-color-fitted-level-2);\n",
              "}\n",
              "\n",
              "/* Estimator-specific style */\n",
              "\n",
              "/* Colorize estimator box */\n",
              "#sk-container-id-2 div.sk-estimator input.sk-toggleable__control:checked~label.sk-toggleable__label {\n",
              "  /* unfitted */\n",
              "  background-color: var(--sklearn-color-unfitted-level-2);\n",
              "}\n",
              "\n",
              "#sk-container-id-2 div.sk-estimator.fitted input.sk-toggleable__control:checked~label.sk-toggleable__label {\n",
              "  /* fitted */\n",
              "  background-color: var(--sklearn-color-fitted-level-2);\n",
              "}\n",
              "\n",
              "#sk-container-id-2 div.sk-label label.sk-toggleable__label,\n",
              "#sk-container-id-2 div.sk-label label {\n",
              "  /* The background is the default theme color */\n",
              "  color: var(--sklearn-color-text-on-default-background);\n",
              "}\n",
              "\n",
              "/* On hover, darken the color of the background */\n",
              "#sk-container-id-2 div.sk-label:hover label.sk-toggleable__label {\n",
              "  color: var(--sklearn-color-text);\n",
              "  background-color: var(--sklearn-color-unfitted-level-2);\n",
              "}\n",
              "\n",
              "/* Label box, darken color on hover, fitted */\n",
              "#sk-container-id-2 div.sk-label.fitted:hover label.sk-toggleable__label.fitted {\n",
              "  color: var(--sklearn-color-text);\n",
              "  background-color: var(--sklearn-color-fitted-level-2);\n",
              "}\n",
              "\n",
              "/* Estimator label */\n",
              "\n",
              "#sk-container-id-2 div.sk-label label {\n",
              "  font-family: monospace;\n",
              "  font-weight: bold;\n",
              "  display: inline-block;\n",
              "  line-height: 1.2em;\n",
              "}\n",
              "\n",
              "#sk-container-id-2 div.sk-label-container {\n",
              "  text-align: center;\n",
              "}\n",
              "\n",
              "/* Estimator-specific */\n",
              "#sk-container-id-2 div.sk-estimator {\n",
              "  font-family: monospace;\n",
              "  border: 1px dotted var(--sklearn-color-border-box);\n",
              "  border-radius: 0.25em;\n",
              "  box-sizing: border-box;\n",
              "  margin-bottom: 0.5em;\n",
              "  /* unfitted */\n",
              "  background-color: var(--sklearn-color-unfitted-level-0);\n",
              "}\n",
              "\n",
              "#sk-container-id-2 div.sk-estimator.fitted {\n",
              "  /* fitted */\n",
              "  background-color: var(--sklearn-color-fitted-level-0);\n",
              "}\n",
              "\n",
              "/* on hover */\n",
              "#sk-container-id-2 div.sk-estimator:hover {\n",
              "  /* unfitted */\n",
              "  background-color: var(--sklearn-color-unfitted-level-2);\n",
              "}\n",
              "\n",
              "#sk-container-id-2 div.sk-estimator.fitted:hover {\n",
              "  /* fitted */\n",
              "  background-color: var(--sklearn-color-fitted-level-2);\n",
              "}\n",
              "\n",
              "/* Specification for estimator info (e.g. \"i\" and \"?\") */\n",
              "\n",
              "/* Common style for \"i\" and \"?\" */\n",
              "\n",
              ".sk-estimator-doc-link,\n",
              "a:link.sk-estimator-doc-link,\n",
              "a:visited.sk-estimator-doc-link {\n",
              "  float: right;\n",
              "  font-size: smaller;\n",
              "  line-height: 1em;\n",
              "  font-family: monospace;\n",
              "  background-color: var(--sklearn-color-background);\n",
              "  border-radius: 1em;\n",
              "  height: 1em;\n",
              "  width: 1em;\n",
              "  text-decoration: none !important;\n",
              "  margin-left: 0.5em;\n",
              "  text-align: center;\n",
              "  /* unfitted */\n",
              "  border: var(--sklearn-color-unfitted-level-1) 1pt solid;\n",
              "  color: var(--sklearn-color-unfitted-level-1);\n",
              "}\n",
              "\n",
              ".sk-estimator-doc-link.fitted,\n",
              "a:link.sk-estimator-doc-link.fitted,\n",
              "a:visited.sk-estimator-doc-link.fitted {\n",
              "  /* fitted */\n",
              "  border: var(--sklearn-color-fitted-level-1) 1pt solid;\n",
              "  color: var(--sklearn-color-fitted-level-1);\n",
              "}\n",
              "\n",
              "/* On hover */\n",
              "div.sk-estimator:hover .sk-estimator-doc-link:hover,\n",
              ".sk-estimator-doc-link:hover,\n",
              "div.sk-label-container:hover .sk-estimator-doc-link:hover,\n",
              ".sk-estimator-doc-link:hover {\n",
              "  /* unfitted */\n",
              "  background-color: var(--sklearn-color-unfitted-level-3);\n",
              "  color: var(--sklearn-color-background);\n",
              "  text-decoration: none;\n",
              "}\n",
              "\n",
              "div.sk-estimator.fitted:hover .sk-estimator-doc-link.fitted:hover,\n",
              ".sk-estimator-doc-link.fitted:hover,\n",
              "div.sk-label-container:hover .sk-estimator-doc-link.fitted:hover,\n",
              ".sk-estimator-doc-link.fitted:hover {\n",
              "  /* fitted */\n",
              "  background-color: var(--sklearn-color-fitted-level-3);\n",
              "  color: var(--sklearn-color-background);\n",
              "  text-decoration: none;\n",
              "}\n",
              "\n",
              "/* Span, style for the box shown on hovering the info icon */\n",
              ".sk-estimator-doc-link span {\n",
              "  display: none;\n",
              "  z-index: 9999;\n",
              "  position: relative;\n",
              "  font-weight: normal;\n",
              "  right: .2ex;\n",
              "  padding: .5ex;\n",
              "  margin: .5ex;\n",
              "  width: min-content;\n",
              "  min-width: 20ex;\n",
              "  max-width: 50ex;\n",
              "  color: var(--sklearn-color-text);\n",
              "  box-shadow: 2pt 2pt 4pt #999;\n",
              "  /* unfitted */\n",
              "  background: var(--sklearn-color-unfitted-level-0);\n",
              "  border: .5pt solid var(--sklearn-color-unfitted-level-3);\n",
              "}\n",
              "\n",
              ".sk-estimator-doc-link.fitted span {\n",
              "  /* fitted */\n",
              "  background: var(--sklearn-color-fitted-level-0);\n",
              "  border: var(--sklearn-color-fitted-level-3);\n",
              "}\n",
              "\n",
              ".sk-estimator-doc-link:hover span {\n",
              "  display: block;\n",
              "}\n",
              "\n",
              "/* \"?\"-specific style due to the `<a>` HTML tag */\n",
              "\n",
              "#sk-container-id-2 a.estimator_doc_link {\n",
              "  float: right;\n",
              "  font-size: 1rem;\n",
              "  line-height: 1em;\n",
              "  font-family: monospace;\n",
              "  background-color: var(--sklearn-color-background);\n",
              "  border-radius: 1rem;\n",
              "  height: 1rem;\n",
              "  width: 1rem;\n",
              "  text-decoration: none;\n",
              "  /* unfitted */\n",
              "  color: var(--sklearn-color-unfitted-level-1);\n",
              "  border: var(--sklearn-color-unfitted-level-1) 1pt solid;\n",
              "}\n",
              "\n",
              "#sk-container-id-2 a.estimator_doc_link.fitted {\n",
              "  /* fitted */\n",
              "  border: var(--sklearn-color-fitted-level-1) 1pt solid;\n",
              "  color: var(--sklearn-color-fitted-level-1);\n",
              "}\n",
              "\n",
              "/* On hover */\n",
              "#sk-container-id-2 a.estimator_doc_link:hover {\n",
              "  /* unfitted */\n",
              "  background-color: var(--sklearn-color-unfitted-level-3);\n",
              "  color: var(--sklearn-color-background);\n",
              "  text-decoration: none;\n",
              "}\n",
              "\n",
              "#sk-container-id-2 a.estimator_doc_link.fitted:hover {\n",
              "  /* fitted */\n",
              "  background-color: var(--sklearn-color-fitted-level-3);\n",
              "}\n",
              "</style><div id=\"sk-container-id-2\" class=\"sk-top-container\"><div class=\"sk-text-repr-fallback\"><pre>KNeighborsRegressor(n_neighbors=3, p=1, weights=&#x27;distance&#x27;)</pre><b>In a Jupyter environment, please rerun this cell to show the HTML representation or trust the notebook. <br />On GitHub, the HTML representation is unable to render, please try loading this page with nbviewer.org.</b></div><div class=\"sk-container\" hidden><div class=\"sk-item\"><div class=\"sk-estimator fitted sk-toggleable\"><input class=\"sk-toggleable__control sk-hidden--visually\" id=\"sk-estimator-id-2\" type=\"checkbox\" checked><label for=\"sk-estimator-id-2\" class=\"sk-toggleable__label fitted sk-toggleable__label-arrow\"><div><div>KNeighborsRegressor</div></div><div><a class=\"sk-estimator-doc-link fitted\" rel=\"noreferrer\" target=\"_blank\" href=\"https://scikit-learn.org/1.6/modules/generated/sklearn.neighbors.KNeighborsRegressor.html\">?<span>Documentation for KNeighborsRegressor</span></a><span class=\"sk-estimator-doc-link fitted\">i<span>Fitted</span></span></div></label><div class=\"sk-toggleable__content fitted\"><pre>KNeighborsRegressor(n_neighbors=3, p=1, weights=&#x27;distance&#x27;)</pre></div> </div></div></div></div>"
            ]
          },
          "metadata": {},
          "execution_count": 24
        }
      ]
    },
    {
      "cell_type": "code",
      "source": [
        "# 3. 예측\n",
        "pred_knn = knn.predict(x_test)"
      ],
      "metadata": {
        "id": "dVnCMQMKuK1v"
      },
      "execution_count": null,
      "outputs": []
    },
    {
      "cell_type": "markdown",
      "source": [
        "## 평가"
      ],
      "metadata": {
        "id": "0BIYFhohuOWo"
      }
    },
    {
      "cell_type": "code",
      "source": [
        "from sklearn.metrics import mean_squared_error, r2_score, mean_absolute_error\n",
        "\n",
        "# 4. 평가\n",
        "test_mse_knn = mean_squared_error(y_test, pred_knn)\n",
        "test_mae_knn = mean_absolute_error(y_test, pred_knn)\n",
        "test_r2_knn = r2_score(y_test, pred_knn)\n",
        "\n",
        "print(f'KNN MAE: {test_mae_knn:.2f}')\n",
        "print(f'KNN MSE: {test_mse_knn:.2f}')\n",
        "print(f'KNN R2: {test_r2_knn:.3f}')"
      ],
      "metadata": {
        "colab": {
          "base_uri": "https://localhost:8080/"
        },
        "id": "XDUMjD8FuNGC",
        "outputId": "65a64b90-818c-4ad3-9728-4f89a85f0918"
      },
      "execution_count": null,
      "outputs": [
        {
          "output_type": "stream",
          "name": "stdout",
          "text": [
            "KNN MAE: 23.27\n",
            "KNN MSE: 4955.60\n",
            "KNN R2: 0.845\n"
          ]
        }
      ]
    },
    {
      "cell_type": "code",
      "source": [
        "y_train_pred_knn = knn.predict(x_train)\n",
        "train_mse_knn = mean_squared_error(y_train, y_train_pred_knn)\n",
        "train_r2_knn = r2_score(y_train, y_train_pred_knn)\n",
        "\n",
        "print(f'KNN Train MSE: {train_mse_knn:.2f}')\n",
        "print(f'KNN Train R2: {train_r2_knn:.3f}')\n",
        "print(f'KNN MSE Diff: {test_mse_knn - train_mse_knn:.2f}')\n",
        "print(f'KNN R2 Diff: {train_r2_knn - test_r2_knn:.3f}')"
      ],
      "metadata": {
        "id": "ey-OjCjNuUXB",
        "colab": {
          "base_uri": "https://localhost:8080/"
        },
        "outputId": "41ef0ec8-4e3e-48cf-8414-a5dcdc16b3c6"
      },
      "execution_count": null,
      "outputs": [
        {
          "output_type": "stream",
          "name": "stdout",
          "text": [
            "KNN Train MSE: 1202.77\n",
            "KNN Train R2: 0.963\n",
            "KNN MSE Diff: 3752.82\n",
            "KNN R2 Diff: 0.118\n"
          ]
        }
      ]
    },
    {
      "cell_type": "code",
      "source": [
        "df"
      ],
      "metadata": {
        "id": "aIMAUopduWMS"
      },
      "execution_count": null,
      "outputs": []
    },
    {
      "cell_type": "code",
      "source": [
        "x"
      ],
      "metadata": {
        "id": "eMCopF_vwf7v"
      },
      "execution_count": null,
      "outputs": []
    },
    {
      "cell_type": "code",
      "source": [
        "from sklearn.metrics import mean_squared_error, r2_score, mean_absolute_error\n",
        "from sklearn.neighbors import KNeighborsRegressor\n",
        "# 하이퍼파라미터 조합\n",
        "param_grid = [\n",
        "    {'n_neighbors': 3, 'weights': 'uniform', 'p': 1, 'metric': 'minkowski'},\n",
        "    {'n_neighbors': 5, 'weights': 'distance', 'p': 2, 'metric': 'minkowski'},\n",
        "    {'n_neighbors': 10, 'weights': 'uniform', 'p': 1, 'metric': 'manhattan'},\n",
        "\n",
        "]\n",
        "\n",
        "# 반복 실행 및 평가 (기존 코드 동일)\n",
        "results = pd.DataFrame(columns=['n_neighbors', 'weights', 'p', 'metric',\n",
        "                                'MAE', 'MSE', 'R^2', 'mse-train_mse', 'train_r2-r2'])\n",
        "\n",
        "for params in param_grid:\n",
        "    knn = KNeighborsRegressor(\n",
        "        n_neighbors=params['n_neighbors'],\n",
        "        weights=params['weights'],\n",
        "        metric=params['metric'],\n",
        "        p=params['p']\n",
        "    )\n",
        "    knn.fit(x_train, y_train)\n",
        "    pred_test = knn.predict(x_test)\n",
        "    mae = mean_absolute_error(y_test, pred_test)\n",
        "    mse = mean_squared_error(y_test, pred_test)\n",
        "    r2 = r2_score(y_test, pred_test)\n",
        "    pred_train = knn.predict(x_train)\n",
        "    train_mse = mean_squared_error(y_train, pred_train)\n",
        "    train_r2 = r2_score(y_train, pred_train)\n",
        "    mse_diff = train_mse - mse\n",
        "    r2_diff = train_r2 - r2\n",
        "    new_row = pd.DataFrame([{\n",
        "        'n_neighbors': params['n_neighbors'],\n",
        "        'weights': params['weights'],\n",
        "        'p': params['p'],\n",
        "        'metric': params['metric'],\n",
        "        'MAE': mae,\n",
        "        'MSE': mse,\n",
        "        'R^2': r2,\n",
        "        'mse-train_mse': mse_diff,\n",
        "        'train_r2-r2': r2_diff\n",
        "    }])\n",
        "    results = pd.concat([results, new_row], ignore_index=True)\n",
        "\n",
        "# 결과 출력\n",
        "print(results)\n"
      ],
      "metadata": {
        "id": "Fe0eBojVxeDx"
      },
      "execution_count": null,
      "outputs": []
    },
    {
      "cell_type": "code",
      "source": [
        "from sklearn.metrics import mean_squared_error, r2_score, mean_absolute_error\n",
        "from sklearn.neighbors import KNeighborsRegressor\n",
        "# 하이퍼파라미터 조합\n",
        "param_grid = [\n",
        "    {'n_neighbors': 3, 'weights': 'uniform', 'p': 1, 'metric': 'euclidean'},\n",
        "    {'n_neighbors': 5, 'weights': 'uniform', 'p': 2, 'metric': 'minkowski'},\n",
        "    {'n_neighbors': 10, 'weights': 'distance', 'p': 1, 'metric': 'manhattan'},\n",
        "\n",
        "]\n",
        "\n",
        "# 반복 실행 및 평가 (기존 코드 동일)\n",
        "results = pd.DataFrame(columns=['n_neighbors', 'weights', 'p', 'metric',\n",
        "                                'MAE', 'MSE', 'R^2', 'mse-train_mse', 'train_r2-r2'])\n",
        "\n",
        "for params in param_grid:\n",
        "    knn = KNeighborsRegressor(\n",
        "        n_neighbors=params['n_neighbors'],\n",
        "        weights=params['weights'],\n",
        "        metric=params['metric'],\n",
        "        p=params['p']\n",
        "    )\n",
        "    knn.fit(x_train, y_train)\n",
        "    pred_test = knn.predict(x_test)\n",
        "    mae = mean_absolute_error(y_test, pred_test)\n",
        "    mse = mean_squared_error(y_test, pred_test)\n",
        "    r2 = r2_score(y_test, pred_test)\n",
        "    pred_train = knn.predict(x_train)\n",
        "    train_mse = mean_squared_error(y_train, pred_train)\n",
        "    train_r2 = r2_score(y_train, pred_train)\n",
        "    mse_diff = train_mse - mse\n",
        "    r2_diff = train_r2 - r2\n",
        "    new_row = pd.DataFrame([{\n",
        "        'n_neighbors': params['n_neighbors'],\n",
        "        'weights': params['weights'],\n",
        "        'p': params['p'],\n",
        "        'metric': params['metric'],\n",
        "        'MAE': mae,\n",
        "        'MSE': mse,\n",
        "        'R^2': r2,\n",
        "        'mse-train_mse': mse_diff,\n",
        "        'train_r2-r2': r2_diff\n",
        "    }])\n",
        "    results = pd.concat([results, new_row], ignore_index=True)\n",
        "\n",
        "# 결과 출력\n",
        "print(results)\n"
      ],
      "metadata": {
        "id": "lTBEThjFOCXT"
      },
      "execution_count": null,
      "outputs": []
    },
    {
      "cell_type": "code",
      "source": [
        "results.to_excel('result2.xlsx', index=False)  # index=False는 인덱스를 저장하지 않도록 설정"
      ],
      "metadata": {
        "id": "6jIc0VJXrZf5"
      },
      "execution_count": null,
      "outputs": []
    },
    {
      "cell_type": "code",
      "source": [],
      "metadata": {
        "id": "RzkL-LfNtpWM"
      },
      "execution_count": null,
      "outputs": []
    }
  ]
}